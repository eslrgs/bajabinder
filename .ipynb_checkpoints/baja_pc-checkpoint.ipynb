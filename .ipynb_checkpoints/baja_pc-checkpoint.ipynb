{
 "cells": [
  {
   "cell_type": "code",
   "execution_count": 2,
   "metadata": {
    "scrolled": true
   },
   "outputs": [
    {
     "name": "stdout",
     "output_type": "stream",
     "text": [
      "Enabling notebook extension jupyter-js-widgets/extension...\n",
      "      - Validating: \u001b[32mOK\u001b[0m\n",
      "Enabling notebook extension jupyter-leaflet/extension...\n",
      "      - Validating: \u001b[32mOK\u001b[0m\n"
     ]
    }
   ],
   "source": [
    "!jupyter nbextension enable --py widgetsnbextension --sys-prefix\n",
    "!jupyter nbextension enable --py --sys-prefix ipyleaflet"
   ]
  },
  {
   "cell_type": "code",
   "execution_count": 53,
   "metadata": {},
   "outputs": [
    {
     "data": {
      "application/vnd.jupyter.widget-view+json": {
       "model_id": "d9c6cb7ac7914b0f97eee38f5ecc8f35",
       "version_major": 2,
       "version_minor": 0
      },
      "text/plain": [
       "Map(center=[29.8, -115.3], controls=(ZoomControl(options=['position', 'zoom_in_text', 'zoom_in_title', 'zoom_o…"
      ]
     },
     "metadata": {},
     "output_type": "display_data"
    }
   ],
   "source": [
    "import pandas as pd\n",
    "from ipyleaflet import Map, Marker, Popup, basemaps, DrawControl, ImageOverlay, LayersControl, FullScreenControl, MeasureControl, WidgetControl\n",
    "from ipywidgets import IntSlider, ColorPicker, jslink\n",
    "import matplotlib.pyplot as plt\n",
    "from ipywidgets import HTML\n",
    "import ipywidgets as widgets\n",
    "\n",
    "\n",
    "center = [29.8, -115.3]\n",
    "zoom = 10\n",
    "opacity = 0.5\n",
    "\n",
    "m = Map(basemap=basemaps.OpenTopoMap, center=center, zoom=zoom)\n",
    "# m = Map(basemap=basemaps.OpenStreetMap.BlackAndWhite, center=center, zoom=zoom)\n",
    "\n",
    "# reg_all = ImageOverlay(url='all_crop.png', bounds=((27.75, -117.37), (32.75, -112.57)), opacity = opacity)\n",
    "reg_n = ImageOverlay(url='lc_crop.png', bounds=((29.999, -116.337), (31, -114.01)), opacity = opacity)\n",
    "reg_s = ImageOverlay(url='psa_crop.png', bounds=((28.98, -116.005), (30, -114)), opacity = opacity)\n",
    "loc_w = ImageOverlay(url='ez_crop.png', bounds=((29.75, -115.667), (30, -115.333)), opacity = opacity)\n",
    "loc_e = ImageOverlay(url='g_crop.png', bounds=((29.75, -115.333), (30, -115)), opacity = opacity)\n",
    "\n",
    "marker = Marker(location=(29.8, -115.5))\n",
    "                 \n",
    "# m.add_layer(reg_all)\n",
    "m.add_layer(reg_n)\n",
    "m.add_layer(reg_s)\n",
    "# m.add_layer(loc_w)\n",
    "# m.add_layer(loc_e)\n",
    "m.add_layer(marker)\n",
    "\n",
    "control = LayersControl(position='topright')\n",
    "m.add_control(control)\n",
    "m.add_control(FullScreenControl(position='bottomright'))\n",
    "\n",
    "\n",
    "measure = MeasureControl(position='topleft', active_color = 'black', \n",
    "                         primary_length_unit = 'meters', primary_area_unit = 'sqmeters')\n",
    "measure.completed_color = 'red'\n",
    "measure.add_length_unit('km', 0.001, 2)\n",
    "measure.secondary_length_unit = 'km'\n",
    "measure.add_area_unit('sqkm', 0.000001, 2)\n",
    "measure.secondary_area_unit = 'sqkm'\n",
    "m.add_control(measure)\n",
    "\n",
    "\n",
    "draw_control = DrawControl()\n",
    "draw_control.polyline =  {\"shapeOptions\": {\"color\": \"#6bc2e5\",\"weight\": 8,\"opacity\": 0.5}}\n",
    "draw_control.polygon = {\"shapeOptions\": {\"fillColor\": \"#6be5c3\",\"color\": \"#6be5c3\",\"fillOpacity\": 0.5},\n",
    "                        \"drawError\": {\"color\": \"#dd253b\", \"message\": \"Oops!\"},\"allowIntersection\": False}\n",
    "draw_control.circle = {\"shapeOptions\": {\"fillColor\": \"#efed69\",\"color\": \"#efed69\",\"fillOpacity\": 0.5}}\n",
    "draw_control.rectangle = {\"shapeOptions\": {\"fillColor\": \"#fca45d\", \"color\": \"#fca45d\",\"fillOpacity\": 0.5}}\n",
    "m.add_control(draw_control)\n",
    "\n",
    "m\n"
   ]
  },
  {
   "cell_type": "code",
   "execution_count": null,
   "metadata": {},
   "outputs": [],
   "source": []
  }
 ],
 "metadata": {
  "kernelspec": {
   "display_name": "field",
   "language": "python",
   "name": "field"
  },
  "language_info": {
   "codemirror_mode": {
    "name": "ipython",
    "version": 3
   },
   "file_extension": ".py",
   "mimetype": "text/x-python",
   "name": "python",
   "nbconvert_exporter": "python",
   "pygments_lexer": "ipython3",
   "version": "3.7.6"
  }
 },
 "nbformat": 4,
 "nbformat_minor": 2
}
